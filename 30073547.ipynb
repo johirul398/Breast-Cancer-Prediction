{
  "nbformat": 4,
  "nbformat_minor": 0,
  "metadata": {
    "colab": {
      "provenance": []
    },
    "kernelspec": {
      "name": "python3",
      "display_name": "Python 3"
    },
    "language_info": {
      "name": "python"
    }
  },
  "cells": [
    {
      "cell_type": "markdown",
      "source": [
        "#**Import Neccessary Tools**\n",
        " Here , I import all necessary Python library to complete my task."
      ],
      "metadata": {
        "id": "mVrAnKiw91wI"
      }
    },
    {
      "cell_type": "code",
      "execution_count": null,
      "metadata": {
        "id": "RftPVWWJ90Z0"
      },
      "outputs": [],
      "source": [
        "import numpy as np\n",
        "import pandas as pd\n",
        "import seaborn as sns\n",
        "import matplotlib.pyplot as plt\n",
        "from sklearn.model_selection import train_test_split\n",
        "from sklearn.preprocessing import StandardScaler\n",
        "from sklearn.linear_model import LogisticRegression\n",
        "from sklearn.metrics import accuracy_score ,confusion_matrix, classification_report\n",
        "import random\n",
        "from numpy.random import seed\n",
        "from sklearn import metrics\n",
        "from sklearn.ensemble import RandomForestClassifier\n",
        "from sklearn import svm\n",
        "from sklearn.tree import DecisionTreeClassifier\n",
        "from sklearn.neighbors import KNeighborsClassifier"
      ]
    },
    {
      "cell_type": "markdown",
      "source": [
        "#**Import Google Drive**\n",
        "Here, I import the link of google drive so that I can access the data that I upload in google drive for analysis."
      ],
      "metadata": {
        "id": "yaak-7KY9-1A"
      }
    },
    {
      "cell_type": "code",
      "source": [
        "from google.colab import drive #import drive\n",
        "drive.mount('/content/drive')  #mount"
      ],
      "metadata": {
        "colab": {
          "base_uri": "https://localhost:8080/"
        },
        "id": "JiAQ6vF69-XY",
        "outputId": "a1729167-8330-4eb0-c380-bc611df1746f"
      },
      "execution_count": null,
      "outputs": [
        {
          "output_type": "stream",
          "name": "stdout",
          "text": [
            "Drive already mounted at /content/drive; to attempt to forcibly remount, call drive.mount(\"/content/drive\", force_remount=True).\n"
          ]
        }
      ]
    },
    {
      "cell_type": "markdown",
      "source": [
        "#**Read CSV File**\n",
        "\n",
        "Here, I read breast cancer wisconsin csv file"
      ],
      "metadata": {
        "id": "pGJTBsdv-WaA"
      }
    },
    {
      "cell_type": "code",
      "source": [
        "data_set = pd.read_csv('/content/drive/MyDrive/breast-cancer-wisconsin.csv',header = None) #read csv file"
      ],
      "metadata": {
        "id": "rEWSfyFr-XZw"
      },
      "execution_count": null,
      "outputs": []
    },
    {
      "cell_type": "markdown",
      "source": [
        "#**Shape of data set**\n",
        "\n",
        "This data set contain 569 row and 32 columns"
      ],
      "metadata": {
        "id": "MDJuDjyfQjUl"
      }
    },
    {
      "cell_type": "code",
      "source": [
        "data_set.shape #check data shape of the data set"
      ],
      "metadata": {
        "colab": {
          "base_uri": "https://localhost:8080/"
        },
        "id": "vz4Tg4HwQF3I",
        "outputId": "2daa6c2e-9e0a-49ef-e139-3ae026ad0077"
      },
      "execution_count": null,
      "outputs": [
        {
          "output_type": "execute_result",
          "data": {
            "text/plain": [
              "(569, 32)"
            ]
          },
          "metadata": {},
          "execution_count": 519
        }
      ]
    },
    {
      "cell_type": "markdown",
      "source": [
        "#**Information about Data**\n",
        "From the below output, we see that our data set contain 569 entries and 32 columns. In my data set there is no null values, and all data type is float except first column and 2nd column. Here, second column is our target that is object dtype and 1st column is id that is int dtype."
      ],
      "metadata": {
        "id": "7sL6YbfbQxVO"
      }
    },
    {
      "cell_type": "code",
      "source": [
        "data_set.info() #information about data set"
      ],
      "metadata": {
        "colab": {
          "base_uri": "https://localhost:8080/"
        },
        "id": "GqwLEOMSQqdH",
        "outputId": "6cbe4544-82e8-4874-db6b-bdd1f983d78c"
      },
      "execution_count": null,
      "outputs": [
        {
          "output_type": "stream",
          "name": "stdout",
          "text": [
            "<class 'pandas.core.frame.DataFrame'>\n",
            "RangeIndex: 569 entries, 0 to 568\n",
            "Data columns (total 32 columns):\n",
            " #   Column  Non-Null Count  Dtype  \n",
            "---  ------  --------------  -----  \n",
            " 0   0       569 non-null    int64  \n",
            " 1   1       569 non-null    object \n",
            " 2   2       569 non-null    float64\n",
            " 3   3       569 non-null    float64\n",
            " 4   4       569 non-null    float64\n",
            " 5   5       569 non-null    float64\n",
            " 6   6       569 non-null    float64\n",
            " 7   7       569 non-null    float64\n",
            " 8   8       569 non-null    float64\n",
            " 9   9       569 non-null    float64\n",
            " 10  10      569 non-null    float64\n",
            " 11  11      569 non-null    float64\n",
            " 12  12      569 non-null    float64\n",
            " 13  13      569 non-null    float64\n",
            " 14  14      569 non-null    float64\n",
            " 15  15      569 non-null    float64\n",
            " 16  16      569 non-null    float64\n",
            " 17  17      569 non-null    float64\n",
            " 18  18      569 non-null    float64\n",
            " 19  19      569 non-null    float64\n",
            " 20  20      569 non-null    float64\n",
            " 21  21      569 non-null    float64\n",
            " 22  22      569 non-null    float64\n",
            " 23  23      569 non-null    float64\n",
            " 24  24      569 non-null    float64\n",
            " 25  25      569 non-null    float64\n",
            " 26  26      569 non-null    float64\n",
            " 27  27      569 non-null    float64\n",
            " 28  28      569 non-null    float64\n",
            " 29  29      569 non-null    float64\n",
            " 30  30      569 non-null    float64\n",
            " 31  31      569 non-null    float64\n",
            "dtypes: float64(30), int64(1), object(1)\n",
            "memory usage: 142.4+ KB\n"
          ]
        }
      ]
    },
    {
      "cell_type": "markdown",
      "source": [
        "# **Drop first column**"
      ],
      "metadata": {
        "id": "VHtNimp0VA52"
      }
    },
    {
      "cell_type": "code",
      "source": [
        "data_set.drop(data_set.columns[0], axis=1, inplace=True) #drop id(1st) column\n"
      ],
      "metadata": {
        "id": "zIbXT93ikjIx"
      },
      "execution_count": null,
      "outputs": []
    },
    {
      "cell_type": "markdown",
      "source": [
        "# Maping Target\n",
        "Here, I set M = 1 and B = 0"
      ],
      "metadata": {
        "id": "Zk8j6dX0i6H3"
      }
    },
    {
      "cell_type": "code",
      "source": [
        "data_set[1] = data_set[1].map({'M':1,'B':0}) #maping\n"
      ],
      "metadata": {
        "id": "uIQHoWSvYXT4"
      },
      "execution_count": null,
      "outputs": []
    },
    {
      "cell_type": "markdown",
      "source": [
        "# Spliting Data Into Train and Test"
      ],
      "metadata": {
        "id": "sUrLRut8t5TT"
      }
    },
    {
      "cell_type": "code",
      "source": [
        "y = data_set[1] #set target\n",
        "X = data_set.drop([1],axis = 1) #features\n",
        "X_train, X_test, y_train, y_test = train_test_split(X,y, test_size= .30, random_state= 0) #split the data into train and test"
      ],
      "metadata": {
        "id": "fYo2b0HMxCws"
      },
      "execution_count": null,
      "outputs": []
    },
    {
      "cell_type": "markdown",
      "source": [
        "# Scaling Data"
      ],
      "metadata": {
        "id": "8bUV5IWkuBdr"
      }
    },
    {
      "cell_type": "code",
      "source": [
        "a =StandardScaler() #standardscaler function\n",
        "X_train = a.fit_transform(X_train) #scaling the train data\n",
        "X_test = a.fit_transform(X_test) #scaling the test data"
      ],
      "metadata": {
        "id": "p2QEUYUjxcQs"
      },
      "execution_count": null,
      "outputs": []
    },
    {
      "cell_type": "markdown",
      "source": [
        "#**1 Logistic Regression**\n",
        "To predict breast cancer here I use logistic regression model, it is one of the classification algorithms that is used in binary classification problems."
      ],
      "metadata": {
        "id": "fPxnaRz8uHnS"
      }
    },
    {
      "cell_type": "code",
      "source": [
        "l_model = LogisticRegression() #define model\n",
        "lg_model = l_model.fit(X_train, y_train) #fit model\n",
        "lg_prediction = lg_model.predict(X_test) #predict using testing data\n",
        "#lg_score = accuracy_score(y_test, lg_prediction) #accuracy score\n",
        "lg_score = round(accuracy_score(y_test, lg_prediction) * 100, 2) #round the value of accuracy score\n",
        "print(\"The accuracy score of Logestic regression is = \",lg_score) #print accuracy score"
      ],
      "metadata": {
        "colab": {
          "base_uri": "https://localhost:8080/"
        },
        "id": "ADeKSUbUywTy",
        "outputId": "77444bce-6f99-414a-ac5f-08002f710b0d"
      },
      "execution_count": null,
      "outputs": [
        {
          "output_type": "stream",
          "name": "stdout",
          "text": [
            "The accuracy score of Logestic regression is =  96.49\n"
          ]
        }
      ]
    },
    {
      "cell_type": "markdown",
      "source": [
        "### **1.1 Confusion Metrix**\n",
        "\n",
        "We use confusion metrics to see the performance of classification algorithm. Confusion matrics represent the value of true positive(tp), false positive(fp) ,true negative(tn) and false negative(fn). Here,\n",
        "**True Positive** means the model predict class equal 1 (positive) and the actual class is equal also 1(positive). **False Positive**  means the model predict class equal 1(positive) and the actual class is equal 0(negative). **True Negative** means the model predict class equal 0(negative) and the actual class is equal also 0(negative). **False Negative** means the predict class equal 0(negative) and the actual class is equal 1(positive). From this confusion metrics, we can say that the result 104 and 61 is correct prediction where 2 and 4 is wrong prediction.\n",
        "\n"
      ],
      "metadata": {
        "id": "eN4Cxr4A2evt"
      }
    },
    {
      "cell_type": "code",
      "source": [
        "confution_lg = confusion_matrix(y_test, lg_prediction) #confusion metrics\n",
        "sns.heatmap(confution_lg, linewidths=0.01, annot=True,fmt= '.1f', color='red') #heat map"
      ],
      "metadata": {
        "colab": {
          "base_uri": "https://localhost:8080/",
          "height": 282
        },
        "id": "6ziYhLFayqZI",
        "outputId": "4e3ab322-a765-439d-aa32-c5c7bee993af"
      },
      "execution_count": null,
      "outputs": [
        {
          "output_type": "execute_result",
          "data": {
            "text/plain": [
              "<matplotlib.axes._subplots.AxesSubplot at 0x7fe7df402160>"
            ]
          },
          "metadata": {},
          "execution_count": 526
        },
        {
          "output_type": "display_data",
          "data": {
            "text/plain": [
              "<Figure size 432x288 with 2 Axes>"
            ],
            "image/png": "[encoded data removed]"
          },
          "metadata": {
            "needs_background": "light"
          }
        }
      ]
    },
    {
      "cell_type": "markdown",
      "source": [
        "### **1.2 Classification Report**\n",
        "Here, I use classification report function to see the precision, recall and f1-score.\n",
        "The formula of precision is equal  TP / (TP + FP). **Precision** value 1 means there is no false positive value in model prediction. High precision value means low FP values. **Recall** means the rate of FN. The formula of recall = TP / (TP + FN).  High recall value means low FN values. The formula of **f1-score** is equal f1 = ((precision * recall) * 2) / (precision + recall). F1-score 1 means good classifier and F1-score 0 means bad classifier."
      ],
      "metadata": {
        "id": "8rLhEPE_n-Zu"
      }
    },
    {
      "cell_type": "code",
      "source": [
        "classification_r =classification_report(y_test,lg_prediction) #classification report\n",
        "print(classification_r)\n"
      ],
      "metadata": {
        "colab": {
          "base_uri": "https://localhost:8080/"
        },
        "id": "A-9b-VwBJfQd",
        "outputId": "d30768b2-48ee-4d5d-a2e5-960003358a99"
      },
      "execution_count": null,
      "outputs": [
        {
          "output_type": "stream",
          "name": "stdout",
          "text": [
            "              precision    recall  f1-score   support\n",
            "\n",
            "           0       0.98      0.96      0.97       108\n",
            "           1       0.94      0.97      0.95        63\n",
            "\n",
            "    accuracy                           0.96       171\n",
            "   macro avg       0.96      0.97      0.96       171\n",
            "weighted avg       0.97      0.96      0.97       171\n",
            "\n"
          ]
        }
      ]
    },
    {
      "cell_type": "markdown",
      "source": [
        "### **1.3 Receiver Operating Characteristic(ROC) curve**\n",
        "\n",
        "ROC show the rate of true possitive against false positive"
      ],
      "metadata": {
        "id": "xag2MfFmoPEd"
      }
    },
    {
      "cell_type": "code",
      "source": [
        "y_pre = lg_model.predict_proba(X_test)[::,1]\n",
        "fr,tr, _ = metrics.roc_curve(y_test, y_pre)\n",
        "auc = metrics.roc_auc_score(y_test,y_pre)\n",
        "plt.plot(fr,tr,label = \"data , accuracy=\"+str(auc)) #\n",
        "plt.legend(loc=3)\n",
        "plt.show()"
      ],
      "metadata": {
        "colab": {
          "base_uri": "https://localhost:8080/",
          "height": 265
        },
        "id": "ujwNSBjC0JbY",
        "outputId": "d734e374-698a-48f2-aa40-2765bd6dd798"
      },
      "execution_count": null,
      "outputs": [
        {
          "output_type": "display_data",
          "data": {
            "text/plain": [
              "<Figure size 432x288 with 1 Axes>"
            ],
            "image/png": "[encoded data removed]"
          },
          "metadata": {
            "needs_background": "light"
          }
        }
      ]
    },
    {
      "cell_type": "markdown",
      "source": [
        "#**2 Support Vector Machine**\n",
        "\n",
        "Support vector machine is another machine learning algorithms that I use to predict breast cancer in my project. It is a classification algorithm that can predict breast cancer."
      ],
      "metadata": {
        "id": "yHrHLJhB4ZE8"
      }
    },
    {
      "cell_type": "code",
      "source": [
        "support_vm = svm.SVC(probability=True) #define model\n",
        "svm_model = support_vm.fit(X_train, y_train) #fit model\n",
        "svm_prediction = svm_model.predict(X_test) #predict\n",
        "svm_score = round(accuracy_score(y_test, svm_prediction) * 100, 2) #round the value\n",
        "print(\"The accuracy score of Support vector machine is = \",svm_score) #print score"
      ],
      "metadata": {
        "colab": {
          "base_uri": "https://localhost:8080/"
        },
        "id": "cuyzxb7b2kOG",
        "outputId": "15f5040b-cabd-4b0d-91ed-66aa477b913b"
      },
      "execution_count": null,
      "outputs": [
        {
          "output_type": "stream",
          "name": "stdout",
          "text": [
            "The accuracy score of Support vector machine is =  97.66\n"
          ]
        }
      ]
    },
    {
      "cell_type": "markdown",
      "source": [
        "### **2.1 Confusion Metrix**\n",
        "\n",
        "We use confusion metrics to see the performance of classification algorithm. Confusion matrics represent the value of true positive(tp), false positive(fp) ,true negative(tn) and false negative(fn). Here,\n",
        "**True Positive** means the model predict class equal 1 (positive) and the actual class is equal also 1(positive). **False Positive**  means the model predict class equal 1(positive) and the actual class is equal 0(negative). **True Negative** means the model predict class equal 0(negative) and the actual class is equal also 0(negative). **False Negative** means the predict class equal 0(negative) and the actual class is equal 1(positive). From this confution metrics, we can say that the result 107 and 60 is correct prediction where 1 and 3 is wrong prediction.\n",
        "\n"
      ],
      "metadata": {
        "id": "oo7XNEIw9BJZ"
      }
    },
    {
      "cell_type": "code",
      "source": [
        "confution_svm = confusion_matrix(y_test, svm_prediction) #confusion metrics\n",
        "sns.heatmap(confution_svm, linewidths=0.01, annot=True,fmt= '.1f', color='red') #heat map"
      ],
      "metadata": {
        "colab": {
          "base_uri": "https://localhost:8080/",
          "height": 282
        },
        "id": "M93jBIPG2kc_",
        "outputId": "9ee5d2fb-a2fb-4433-c06a-85b332557ba4"
      },
      "execution_count": null,
      "outputs": [
        {
          "output_type": "execute_result",
          "data": {
            "text/plain": [
              "<matplotlib.axes._subplots.AxesSubplot at 0x7fe7dfa242b0>"
            ]
          },
          "metadata": {},
          "execution_count": 530
        },
        {
          "output_type": "display_data",
          "data": {
            "text/plain": [
              "<Figure size 432x288 with 2 Axes>"
            ],
            "image/png": "[encoded data removed]"
          },
          "metadata": {
            "needs_background": "light"
          }
        }
      ]
    },
    {
      "cell_type": "markdown",
      "source": [
        "### **2.2 Classification Report**\n",
        "Here, I use classification report function to see the precision, recall and f1-score.\n",
        "The formula of precision is equal  TP / (TP + FP). **Precision** value 1 means there is no false positive value in model prediction. High precision value means low FP values. **Recall** means the rate of FN. The formula of recall = TP / (TP + FN).  High recall value means low FN values. The formula of **f1-score** is equal f1 = ((precision * recall) * 2) / (precision + recall). F1-score 1 means good classifier and F1-score 0 means bad classifier."
      ],
      "metadata": {
        "id": "TvFaY35p9nFX"
      }
    },
    {
      "cell_type": "code",
      "source": [
        "classification_svm =classification_report(y_test,svm_prediction) #classification report\n",
        "print(classification_svm)\n"
      ],
      "metadata": {
        "colab": {
          "base_uri": "https://localhost:8080/"
        },
        "id": "kmiKtQQw2khP",
        "outputId": "42c8ad07-0348-4296-865f-c1093858614f"
      },
      "execution_count": null,
      "outputs": [
        {
          "output_type": "stream",
          "name": "stdout",
          "text": [
            "              precision    recall  f1-score   support\n",
            "\n",
            "           0       0.97      0.99      0.98       108\n",
            "           1       0.98      0.95      0.97        63\n",
            "\n",
            "    accuracy                           0.98       171\n",
            "   macro avg       0.98      0.97      0.97       171\n",
            "weighted avg       0.98      0.98      0.98       171\n",
            "\n"
          ]
        }
      ]
    },
    {
      "cell_type": "markdown",
      "source": [
        "### **2.3 Receiver Operating Characteristic(ROC) curve**\n",
        "\n",
        "ROC show the rate of true possitive against false positive"
      ],
      "metadata": {
        "id": "5g4kJy9QR35M"
      }
    },
    {
      "cell_type": "code",
      "source": [
        "y_pre = svm_model.predict_proba(X_test)[::,1]\n",
        "fr,tr, _ = metrics.roc_curve(y_test, y_pre)\n",
        "auc = metrics.roc_auc_score(y_test,y_pre)\n",
        "plt.plot(fr,tr,label = \"data , accuracy=\"+str(auc)) #\n",
        "plt.legend(loc=3)\n",
        "plt.show()"
      ],
      "metadata": {
        "colab": {
          "base_uri": "https://localhost:8080/",
          "height": 265
        },
        "id": "MG5GVXOHRMT5",
        "outputId": "8e83449c-2505-47fc-d889-0cfd734a0007"
      },
      "execution_count": null,
      "outputs": [
        {
          "output_type": "display_data",
          "data": {
            "text/plain": [
              "<Figure size 432x288 with 1 Axes>"
            ],
            "image/png": "[encoded data removed]"
          },
          "metadata": {
            "needs_background": "light"
          }
        }
      ]
    },
    {
      "cell_type": "markdown",
      "source": [
        "#**3 K Neighbors Classifiers (KNN)**\n",
        "In my project I use K-Nearest Neighbour (KNN) to predict breast cancer. It is one of the easiest algorithms that is used in classification, and the idea behind this algorithm is put similar things together."
      ],
      "metadata": {
        "id": "hFIM2RmM9P57"
      }
    },
    {
      "cell_type": "code",
      "source": [
        "k = KNeighborsClassifier(n_neighbors= 5) #define model\n",
        "knn_model = k.fit(X_train, y_train) #fit model\n",
        "knn_prediction = knn_model.predict(X_test) #predict model with test data\n",
        "knn_score = round(accuracy_score(y_test, knn_prediction) * 100, 2) #round the value\n",
        "print(\"The accuracy score of KNN is = \",knn_score) #print score"
      ],
      "metadata": {
        "colab": {
          "base_uri": "https://localhost:8080/"
        },
        "id": "WNHQNyZF2klM",
        "outputId": "a8b3a237-04aa-4455-d28e-e2bc12e8ae0b"
      },
      "execution_count": null,
      "outputs": [
        {
          "output_type": "stream",
          "name": "stdout",
          "text": [
            "The accuracy score of KNN is =  94.74\n"
          ]
        }
      ]
    },
    {
      "cell_type": "markdown",
      "source": [
        "### **3.1 Confusion Metrix**\n",
        "\n",
        "We use confusion metrics to see the performance of classification algorithm. Confusion matrics represent the value of true positive(tp), false positive(fp) ,true negative(tn) and false negative(fn). Here,\n",
        "**True Positive** means the model predict class equal 1 (positive) and the actual class is equal also 1(positive). **False Positive**  means the model predict class equal 1(positive) and the actual class is equal 0(negative). **True Negative** means the model predict class equal 0(negative) and the actual class is equal also 0(negative). **False Negative** means the predict class equal 0(negative) and the actual class is equal 1(positive). From this confution metrics, we can say that the result 105 and 57 is correct prediction where 6 and 3 is wrong prediction.\n",
        "\n"
      ],
      "metadata": {
        "id": "aa1IXMPV_-cH"
      }
    },
    {
      "cell_type": "code",
      "source": [
        "confution_knn = confusion_matrix(y_test, knn_prediction) #confusion matrix\n",
        "sns.heatmap(confution_knn, linewidths=0.01, annot=True,fmt= '.1f', color='red') #heat map"
      ],
      "metadata": {
        "colab": {
          "base_uri": "https://localhost:8080/",
          "height": 282
        },
        "id": "whGQKd832kpI",
        "outputId": "71302025-d162-4b47-887f-bd6521481835"
      },
      "execution_count": null,
      "outputs": [
        {
          "output_type": "execute_result",
          "data": {
            "text/plain": [
              "<matplotlib.axes._subplots.AxesSubplot at 0x7fe7df8c7610>"
            ]
          },
          "metadata": {},
          "execution_count": 534
        },
        {
          "output_type": "display_data",
          "data": {
            "text/plain": [
              "<Figure size 432x288 with 2 Axes>"
            ],
            "image/png": "[encoded data removed]"
          },
          "metadata": {
            "needs_background": "light"
          }
        }
      ]
    },
    {
      "cell_type": "markdown",
      "source": [
        "### **3.2 Classification Report**\n",
        "Here, I use classification report function to see the precision, recall and f1-score.\n",
        "The formula of precision is equal  TP / (TP + FP). **Precision** value 1 means there is no false positive value in model prediction. High precision value means low FP values. **Recall** means the rate of FN. The formula of recall = TP / (TP + FN).  High recall value means low FN values. The formula of **f1-score** is equal f1 = ((precision * recall) * 2) / (precision + recall). F1-score 1 means good classifier and F1-score 0 means bad classifier."
      ],
      "metadata": {
        "id": "-6eVsjufALLl"
      }
    },
    {
      "cell_type": "code",
      "source": [
        "classification_knn =classification_report(y_test,knn_prediction)\n",
        "print(classification_knn)\n"
      ],
      "metadata": {
        "colab": {
          "base_uri": "https://localhost:8080/"
        },
        "id": "0-WOoRtq2ksZ",
        "outputId": "aae16752-19d5-4743-9848-cc16f3eac354"
      },
      "execution_count": null,
      "outputs": [
        {
          "output_type": "stream",
          "name": "stdout",
          "text": [
            "              precision    recall  f1-score   support\n",
            "\n",
            "           0       0.95      0.97      0.96       108\n",
            "           1       0.95      0.90      0.93        63\n",
            "\n",
            "    accuracy                           0.95       171\n",
            "   macro avg       0.95      0.94      0.94       171\n",
            "weighted avg       0.95      0.95      0.95       171\n",
            "\n"
          ]
        }
      ]
    },
    {
      "cell_type": "markdown",
      "source": [
        "#**4 Decision Tree Classifier**\n",
        "We use decision tree algorithms for both classification and regression task, and it is a type of supervised learning algorithms.  It is one of the easy algorithms to understand, and the main aim of this algorithms is to build a model using training data that can take decision for new data. Here, I use this algorithms to predict breast cancer."
      ],
      "metadata": {
        "id": "dwAbGBCrCwbs"
      }
    },
    {
      "cell_type": "code",
      "source": [
        "d = DecisionTreeClassifier() # define model\n",
        "dtc_model = d.fit(X_train, y_train) #fit model\n",
        "dtc_prediction = dtc_model.predict(X_test) # predict\n",
        "dtc_score = round(accuracy_score(y_test, dtc_prediction) * 100, 2) #round the value\n",
        "print(\"The accuracy score of the model is = \",dtc_score) #print score"
      ],
      "metadata": {
        "colab": {
          "base_uri": "https://localhost:8080/"
        },
        "id": "YxCZ3Ai_2kwY",
        "outputId": "97d3a260-1fde-4e39-98ae-4c9e75107ba9"
      },
      "execution_count": null,
      "outputs": [
        {
          "output_type": "stream",
          "name": "stdout",
          "text": [
            "The accuracy score of the model is =  90.64\n"
          ]
        }
      ]
    },
    {
      "cell_type": "markdown",
      "source": [
        "### **4.1 Confusion Metrix**\n",
        "\n",
        "We use confusion metrics to see the performance of classification algorithm. Confusion matrics represent the value of true positive(tp), false positive(fp) ,true negative(tn) and false negative(fn). Here,\n",
        "**True Positive** means the model predict class equal 1 (positive) and the actual class is equal also 1(positive). **False Positive**  means the model predict class equal 1(positive) and the actual class is equal 0(negative). **True Negative** means the model predict class equal 0(negative) and the actual class is equal also 0(negative). **False Negative** means the predict class equal 0(negative) and the actual class is equal 1(positive). From this confution metrics, we can say that the result 100 and 59 is correct prediction where 8 and 4 is wrong prediction.\n",
        "\n"
      ],
      "metadata": {
        "id": "qg-U1GtICBCU"
      }
    },
    {
      "cell_type": "code",
      "source": [
        "confution_dtc = confusion_matrix(y_test, dtc_prediction) #confusion matrix\n",
        "sns.heatmap(confution_dtc, linewidths=0.01, annot=True,fmt= '.1f', color='red') #heat map"
      ],
      "metadata": {
        "colab": {
          "base_uri": "https://localhost:8080/",
          "height": 282
        },
        "id": "8T4UD3uu2k0g",
        "outputId": "a42ab49d-3fee-48fb-a47d-0847437c6c06"
      },
      "execution_count": null,
      "outputs": [
        {
          "output_type": "execute_result",
          "data": {
            "text/plain": [
              "<matplotlib.axes._subplots.AxesSubplot at 0x7fe7debe9df0>"
            ]
          },
          "metadata": {},
          "execution_count": 537
        },
        {
          "output_type": "display_data",
          "data": {
            "text/plain": [
              "<Figure size 432x288 with 2 Axes>"
            ],
            "image/png": "[encoded data removed]"
          },
          "metadata": {
            "needs_background": "light"
          }
        }
      ]
    },
    {
      "cell_type": "markdown",
      "source": [
        "### **4.2 Classification Report**\n",
        "Here, I use classification report function to see the precision, recall and f1-score.\n",
        "The formula of precision is equal  TP / (TP + FP). **Precision** value 1 means there is no false positive value in model prediction. High precision value means low FP values. **Recall** means the rate of FN. The formula of recall = TP / (TP + FN).  High recall value means low FN values. The formula of **f1-score** is equal f1 = ((precision * recall) * 2) / (precision + recall). F1-score 1 means good classifier and F1-score 0 means bad classifier."
      ],
      "metadata": {
        "id": "HTeEyeNeCaSE"
      }
    },
    {
      "cell_type": "code",
      "source": [
        "classification_dtc =classification_report(y_test,dtc_prediction)\n",
        "print(classification_dtc)\n"
      ],
      "metadata": {
        "colab": {
          "base_uri": "https://localhost:8080/"
        },
        "id": "c7b0xhat2lHw",
        "outputId": "a19500d0-af23-4c23-f637-977c9e864395"
      },
      "execution_count": null,
      "outputs": [
        {
          "output_type": "stream",
          "name": "stdout",
          "text": [
            "              precision    recall  f1-score   support\n",
            "\n",
            "           0       0.94      0.91      0.92       108\n",
            "           1       0.85      0.90      0.88        63\n",
            "\n",
            "    accuracy                           0.91       171\n",
            "   macro avg       0.90      0.91      0.90       171\n",
            "weighted avg       0.91      0.91      0.91       171\n",
            "\n"
          ]
        }
      ]
    },
    {
      "cell_type": "markdown",
      "source": [
        "### **4.3 Receiver Operating Characteristic(ROC) curve**\n",
        "\n",
        "ROC show the rate of true possitive against false positive"
      ],
      "metadata": {
        "id": "KDR3ExMUSX3X"
      }
    },
    {
      "cell_type": "code",
      "source": [
        "y_pre = dtc_model.predict_proba(X_test)[::,1]\n",
        "fr,tr, _ = metrics.roc_curve(y_test, y_pre)\n",
        "auc = metrics.roc_auc_score(y_test,y_pre)\n",
        "plt.plot(fr,tr,label = \"data , accuracy=\"+str(auc))\n",
        "plt.legend(loc=3)\n",
        "plt.show()"
      ],
      "metadata": {
        "colab": {
          "base_uri": "https://localhost:8080/",
          "height": 265
        },
        "id": "m2IKHFP8SFXw",
        "outputId": "de5c320a-f4c2-4023-f1c9-643022b56093"
      },
      "execution_count": null,
      "outputs": [
        {
          "output_type": "display_data",
          "data": {
            "text/plain": [
              "<Figure size 432x288 with 1 Axes>"
            ],
            "image/png": "[encoded data removed]"
          },
          "metadata": {
            "needs_background": "light"
          }
        }
      ]
    },
    {
      "cell_type": "markdown",
      "source": [
        "#5 Random Forest Classifier\n",
        "Random Forest is one of the machine learning algorithms that is used in both classification and regression problems. Random forest is well known algorithm in medical sectors to detect disease. I use this classification technique in my project to predict breast cancer."
      ],
      "metadata": {
        "id": "qK5KJoDqE-aW"
      }
    },
    {
      "cell_type": "code",
      "source": [
        "seed(2)\n",
        "r = RandomForestClassifier(n_estimators=50, max_depth=3,random_state=0)\n",
        "#r = RandomForestClassifier(n_estimators=10) #define model\n",
        "rdf_model = d.fit(X_train, y_train) #fit\n",
        "rdf_prediction = rdf_model.predict(X_test) #predict\n",
        "rdf_score = round(accuracy_score(y_test, rdf_prediction) * 100, 2) #round the value\n",
        "print(\"The accuracy score of the model is = \",rdf_score) #print score"
      ],
      "metadata": {
        "colab": {
          "base_uri": "https://localhost:8080/"
        },
        "id": "34xnW6FgFEdd",
        "outputId": "348eff19-c6d3-44d4-aa0f-a85f2474be3e"
      },
      "execution_count": null,
      "outputs": [
        {
          "output_type": "stream",
          "name": "stdout",
          "text": [
            "The accuracy score of the model is =  92.4\n"
          ]
        }
      ]
    },
    {
      "cell_type": "markdown",
      "source": [
        "### **5.1 Confusion Metrix**\n",
        "\n",
        "We use confusion metrics to see the performance of classification algorithm. Confusion matrics represent the value of true positive(tp), false positive(fp) ,true negative(tn) and false negative(fn). Here,\n",
        "**True Positive** means the model predict class equal 1 (positive) and the actual class is equal also 1(positive). **False Positive**  means the model predict class equal 1(positive) and the actual class is equal 0(negative). **True Negative** means the model predict class equal 0(negative) and the actual class is equal also 0(negative). **False Negative** means the predict class equal 0(negative) and the actual class is equal 1(positive). From this confution metrics, we can say that the result 98 and 58 is correct prediction where 10 and 5 is wrong prediction.\n",
        "\n"
      ],
      "metadata": {
        "id": "6eCCJTwxDcaO"
      }
    },
    {
      "cell_type": "code",
      "source": [
        "confution_rdf = confusion_matrix(y_test, rdf_prediction) #confusion matrix\n",
        "sns.heatmap(confution_rdf, linewidths=0.01, annot=True,fmt= '.1f', color='red') #heat map"
      ],
      "metadata": {
        "colab": {
          "base_uri": "https://localhost:8080/",
          "height": 282
        },
        "id": "RW267pkYGBQf",
        "outputId": "73893abe-a60b-4db9-f79d-0e90f618ee79"
      },
      "execution_count": null,
      "outputs": [
        {
          "output_type": "execute_result",
          "data": {
            "text/plain": [
              "<matplotlib.axes._subplots.AxesSubplot at 0x7fe7df821910>"
            ]
          },
          "metadata": {},
          "execution_count": 541
        },
        {
          "output_type": "display_data",
          "data": {
            "text/plain": [
              "<Figure size 432x288 with 2 Axes>"
            ],
            "image/png": "[encoded data removed]"
          },
          "metadata": {
            "needs_background": "light"
          }
        }
      ]
    },
    {
      "cell_type": "markdown",
      "source": [
        "### **5.2 Classification Report**\n",
        "Here, I use classification report function to see the precision, recall and f1-score.\n",
        "The formula of precision is equal  TP / (TP + FP). **Precision** value 1 means there is no false positive value in model prediction. High precision value means low FP values. **Recall** means the rate of FN. The formula of recall = TP / (TP + FN).  High recall value means low FN values. The formula of **f1-score** is equal f1 = ((precision * recall) * 2) / (precision + recall). F1-score 1 means good classifier and F1-score 0 means bad classifier."
      ],
      "metadata": {
        "id": "xETSc7sFD3d9"
      }
    },
    {
      "cell_type": "code",
      "source": [
        "classification_rdf =classification_report(y_test,rdf_prediction)\n",
        "print(classification_rdf)\n"
      ],
      "metadata": {
        "colab": {
          "base_uri": "https://localhost:8080/"
        },
        "id": "562jRqjBGeos",
        "outputId": "1df22d22-98ec-46b0-978a-7cb743a3bc42"
      },
      "execution_count": null,
      "outputs": [
        {
          "output_type": "stream",
          "name": "stdout",
          "text": [
            "              precision    recall  f1-score   support\n",
            "\n",
            "           0       0.96      0.92      0.94       108\n",
            "           1       0.87      0.94      0.90        63\n",
            "\n",
            "    accuracy                           0.92       171\n",
            "   macro avg       0.91      0.93      0.92       171\n",
            "weighted avg       0.93      0.92      0.92       171\n",
            "\n"
          ]
        }
      ]
    },
    {
      "cell_type": "markdown",
      "source": [
        "### **5.3 Receiver Operating Characteristic(ROC) curve**\n",
        "\n",
        "ROC show the rate of true possitive against false positive"
      ],
      "metadata": {
        "id": "Dfv-3FD8Y5EQ"
      }
    },
    {
      "cell_type": "code",
      "source": [
        "y_pre = rdf_model.predict_proba(X_test)[::,1]\n",
        "fr,tr, _ = metrics.roc_curve(y_test, y_pre)\n",
        "auc = metrics.roc_auc_score(y_test,y_pre)\n",
        "plt.plot(fr,tr,label = \"data , accuracy=\"+str(auc))\n",
        "plt.legend(loc=3)\n",
        "plt.show()"
      ],
      "metadata": {
        "colab": {
          "base_uri": "https://localhost:8080/",
          "height": 265
        },
        "id": "ltuY603hYw6g",
        "outputId": "114b28eb-145b-490c-8b97-9906c24d554b"
      },
      "execution_count": null,
      "outputs": [
        {
          "output_type": "display_data",
          "data": {
            "text/plain": [
              "<Figure size 432x288 with 1 Axes>"
            ],
            "image/png": "[encoded data removed]"
          },
          "metadata": {
            "needs_background": "light"
          }
        }
      ]
    },
    {
      "cell_type": "markdown",
      "source": [
        "#**6 Model Accuracy**\n",
        "Here, we see that SVM algorithm gives the high accuracy (97.66%) compared to others algorithms."
      ],
      "metadata": {
        "id": "2OCmzBtvEg5e"
      }
    },
    {
      "cell_type": "code",
      "source": [
        "m = pd.DataFrame({'Model':['KNN','SVM','LOGISTIC REGRESSION','RANDOM FOREST','DECISION TREE'], 'SCORE':[knn_score,svm_score,lg_score,rdf_score,dtc_score]})\n",
        "sns.barplot(x = 'SCORE', y = 'Model',data = m)\n",
        "m.sort_values(by = 'SCORE',ascending = False)"
      ],
      "metadata": {
        "colab": {
          "base_uri": "https://localhost:8080/",
          "height": 468
        },
        "id": "ANLCvdJhEmEl",
        "outputId": "079cd83b-d2d1-4b9b-f9c0-6bcb5c44c856"
      },
      "execution_count": null,
      "outputs": [
        {
          "output_type": "execute_result",
          "data": {
            "text/plain": [
              "                 Model  SCORE\n",
              "1                  SVM  97.66\n",
              "2  LOGISTIC REGRESSION  96.49\n",
              "0                  KNN  94.74\n",
              "3        RANDOM FOREST  92.40\n",
              "4        DECISION TREE  90.64"
            ],
            "text/html": [
              "\n",
              "  <div id=\"df-36d65341-e9b9-42ce-8c3a-25c35362e09b\">\n",
              "    <div class=\"colab-df-container\">\n",
              "      <div>\n",
              "<style scoped>\n",
              "    .dataframe tbody tr th:only-of-type {\n",
              "        vertical-align: middle;\n",
              "    }\n",
              "\n",
              "    .dataframe tbody tr th {\n",
              "        vertical-align: top;\n",
              "    }\n",
              "\n",
              "    .dataframe thead th {\n",
              "        text-align: right;\n",
              "    }\n",
              "</style>\n",
              "<table border=\"1\" class=\"dataframe\">\n",
              "  <thead>\n",
              "    <tr style=\"text-align: right;\">\n",
              "      <th></th>\n",
              "      <th>Model</th>\n",
              "      <th>SCORE</th>\n",
              "    </tr>\n",
              "  </thead>\n",
              "  <tbody>\n",
              "    <tr>\n",
              "      <th>1</th>\n",
              "      <td>SVM</td>\n",
              "      <td>97.66</td>\n",
              "    </tr>\n",
              "    <tr>\n",
              "      <th>2</th>\n",
              "      <td>LOGISTIC REGRESSION</td>\n",
              "      <td>96.49</td>\n",
              "    </tr>\n",
              "    <tr>\n",
              "      <th>0</th>\n",
              "      <td>KNN</td>\n",
              "      <td>94.74</td>\n",
              "    </tr>\n",
              "    <tr>\n",
              "      <th>3</th>\n",
              "      <td>RANDOM FOREST</td>\n",
              "      <td>92.40</td>\n",
              "    </tr>\n",
              "    <tr>\n",
              "      <th>4</th>\n",
              "      <td>DECISION TREE</td>\n",
              "      <td>90.64</td>\n",
              "    </tr>\n",
              "  </tbody>\n",
              "</table>\n",
              "</div>\n",
              "      <button class=\"colab-df-convert\" onclick=\"convertToInteractive('df-36d65341-e9b9-42ce-8c3a-25c35362e09b')\"\n",
              "              title=\"Convert this dataframe to an interactive table.\"\n",
              "              style=\"display:none;\">\n",
              "        \n",
              "  <svg xmlns=\"http://www.w3.org/2000/svg\" height=\"24px\"viewBox=\"0 0 24 24\"\n",
              "       width=\"24px\">\n",
              "    <path d=\"M0 0h24v24H0V0z\" fill=\"none\"/>\n",
              "    <path d=\"M18.56 5.44l.94 2.06.94-2.06 2.06-.94-2.06-.94-.94-2.06-.94 2.06-2.06.94zm-11 1L8.5 8.5l.94-2.06 2.06-.94-2.06-.94L8.5 2.5l-.94 2.06-2.06.94zm10 10l.94 2.06.94-2.06 2.06-.94-2.06-.94-.94-2.06-.94 2.06-2.06.94z\"/><path d=\"M17.41 7.96l-1.37-1.37c-.4-.4-.92-.59-1.43-.59-.52 0-1.04.2-1.43.59L10.3 9.45l-7.72 7.72c-.78.78-.78 2.05 0 2.83L4 21.41c.39.39.9.59 1.41.59.51 0 1.02-.2 1.41-.59l7.78-7.78 2.81-2.81c.8-.78.8-2.07 0-2.86zM5.41 20L4 18.59l7.72-7.72 1.47 1.35L5.41 20z\"/>\n",
              "  </svg>\n",
              "      </button>\n",
              "      \n",
              "  <style>\n",
              "    .colab-df-container {\n",
              "      display:flex;\n",
              "      flex-wrap:wrap;\n",
              "      gap: 12px;\n",
              "    }\n",
              "\n",
              "    .colab-df-convert {\n",
              "      background-color: #E8F0FE;\n",
              "      border: none;\n",
              "      border-radius: 50%;\n",
              "      cursor: pointer;\n",
              "      display: none;\n",
              "      fill: #1967D2;\n",
              "      height: 32px;\n",
              "      padding: 0 0 0 0;\n",
              "      width: 32px;\n",
              "    }\n",
              "\n",
              "    .colab-df-convert:hover {\n",
              "      background-color: #E2EBFA;\n",
              "      box-shadow: 0px 1px 2px rgba(60, 64, 67, 0.3), 0px 1px 3px 1px rgba(60, 64, 67, 0.15);\n",
              "      fill: #174EA6;\n",
              "    }\n",
              "\n",
              "    [theme=dark] .colab-df-convert {\n",
              "      background-color: #3B4455;\n",
              "      fill: #D2E3FC;\n",
              "    }\n",
              "\n",
              "    [theme=dark] .colab-df-convert:hover {\n",
              "      background-color: #434B5C;\n",
              "      box-shadow: 0px 1px 3px 1px rgba(0, 0, 0, 0.15);\n",
              "      filter: drop-shadow(0px 1px 2px rgba(0, 0, 0, 0.3));\n",
              "      fill: #FFFFFF;\n",
              "    }\n",
              "  </style>\n",
              "\n",
              "      <script>\n",
              "        const buttonEl =\n",
              "          document.querySelector('#df-36d65341-e9b9-42ce-8c3a-25c35362e09b button.colab-df-convert');\n",
              "        buttonEl.style.display =\n",
              "          google.colab.kernel.accessAllowed ? 'block' : 'none';\n",
              "\n",
              "        async function convertToInteractive(key) {\n",
              "          const element = document.querySelector('#df-36d65341-e9b9-42ce-8c3a-25c35362e09b');\n",
              "          const dataTable =\n",
              "            await google.colab.kernel.invokeFunction('convertToInteractive',\n",
              "                                                     [key], {});\n",
              "          if (!dataTable) return;\n",
              "\n",
              "          const docLinkHtml = 'Like what you see? Visit the ' +\n",
              "            '<a target=\"_blank\" href=https://colab.research.google.com/notebooks/data_table.ipynb>data table notebook</a>'\n",
              "            + ' to learn more about interactive tables.';\n",
              "          element.innerHTML = '';\n",
              "          dataTable['output_type'] = 'display_data';\n",
              "          await google.colab.output.renderOutput(dataTable, element);\n",
              "          const docLink = document.createElement('div');\n",
              "          docLink.innerHTML = docLinkHtml;\n",
              "          element.appendChild(docLink);\n",
              "        }\n",
              "      </script>\n",
              "    </div>\n",
              "  </div>\n",
              "  "
            ]
          },
          "metadata": {},
          "execution_count": 544
        },
        {
          "output_type": "display_data",
          "data": {
            "text/plain": [
              "<Figure size 432x288 with 1 Axes>"
            ],
            "image/png": "[encoded data removed]"
          },
          "metadata": {
            "needs_background": "light"
          }
        }
      ]
    }
  ]
}